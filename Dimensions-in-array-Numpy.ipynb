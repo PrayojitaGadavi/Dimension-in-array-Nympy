{
 "cells": [
  {
   "cell_type": "code",
   "execution_count": 1,
   "id": "752c1957",
   "metadata": {},
   "outputs": [
    {
     "name": "stdout",
     "output_type": "stream",
     "text": [
      "10\n"
     ]
    }
   ],
   "source": [
    " import numpy as np  \n",
    "i = np.array(10)  #oD\n",
    "print(i)"
   ]
  },
  {
   "cell_type": "code",
   "execution_count": 2,
   "id": "340f5be9",
   "metadata": {},
   "outputs": [
    {
     "name": "stdout",
     "output_type": "stream",
     "text": [
      "[10 20 30 40 50]\n"
     ]
    }
   ],
   "source": [
    " import numpy as np\n",
    "i = np.array([10, 20, 30, 40, 50])  #1D\n",
    "print(i)"
   ]
  },
  {
   "cell_type": "code",
   "execution_count": 3,
   "id": "afa49294",
   "metadata": {},
   "outputs": [
    {
     "name": "stdout",
     "output_type": "stream",
     "text": [
      "[[15 20 35]\n",
      " [45 55 60]]\n"
     ]
    }
   ],
   "source": [
    "import numpy as np   #2D\n",
    "p = np.array([\n",
    "[15, 20, 35],\n",
    "[45, 55, 60]\n",
    "])\n",
    "print(p)"
   ]
  },
  {
   "cell_type": "code",
   "execution_count": 5,
   "id": "c0b1f27f",
   "metadata": {},
   "outputs": [
    {
     "name": "stdout",
     "output_type": "stream",
     "text": [
      "[[[15 25 35]\n",
      "  [45 55 65]]\n",
      "\n",
      " [[10 20 30]\n",
      "  [40 50 60]]]\n"
     ]
    }
   ],
   "source": [
    "import numpy as np    #3D\n",
    "p = np.array([\n",
    "[[15, 25, 35], [45, 55, 65]],\n",
    "[[10, 20, 30], [40, 50, 60]]\n",
    "])\n",
    "print(p)"
   ]
  },
  {
   "cell_type": "code",
   "execution_count": 6,
   "id": "8fc5eb24",
   "metadata": {},
   "outputs": [
    {
     "name": "stdout",
     "output_type": "stream",
     "text": [
      "0\n",
      "1\n",
      "2\n",
      "3\n"
     ]
    }
   ],
   "source": [
    "import numpy as np\n",
    "i = np.array(10)\n",
    "j = np.array([10, 20, 30, 40, 50])\n",
    "k = np.array([[11, 22, 33], [44, 55, 66]])\n",
    "m = np.array([[[10, 20, 30], [40, 50, 60]], [[10, 20, 30], [40, 50, \n",
    "60]]])\n",
    "print(i.ndim)\n",
    "print(j.ndim)\n",
    "print(k.ndim)\n",
    "print(m.ndim)"
   ]
  },
  {
   "cell_type": "code",
   "execution_count": 7,
   "id": "0b0726d2",
   "metadata": {},
   "outputs": [
    {
     "name": "stdout",
     "output_type": "stream",
     "text": [
      "[[[[[10 20 30 40]]]]]\n",
      "5\n"
     ]
    }
   ],
   "source": [
    "import numpy as np\n",
    "i = np.array([10, 20, 30, 40], ndmin=5)\n",
    "print(i)\n",
    "print(i.ndim)"
   ]
  },
  {
   "cell_type": "code",
   "execution_count": null,
   "id": "ab5b5739",
   "metadata": {},
   "outputs": [],
   "source": []
  }
 ],
 "metadata": {
  "kernelspec": {
   "display_name": "Python 3",
   "language": "python",
   "name": "python3"
  },
  "language_info": {
   "codemirror_mode": {
    "name": "ipython",
    "version": 3
   },
   "file_extension": ".py",
   "mimetype": "text/x-python",
   "name": "python",
   "nbconvert_exporter": "python",
   "pygments_lexer": "ipython3",
   "version": "3.8.8"
  }
 },
 "nbformat": 4,
 "nbformat_minor": 5
}
